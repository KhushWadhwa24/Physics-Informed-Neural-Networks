{
 "cells": [
  {
   "cell_type": "markdown",
   "id": "e71f2060",
   "metadata": {},
   "source": [
    "### Differential Equation: \n",
    "$$ \\frac{\\partial u}{\\partial t} + a\\frac{\\partial u}{\\partial x} = 0 $$ \n",
    "\n",
    "where $u$ is the advected quantity and $a$ is the advected speed. For current simulation, $a$ is a constant and is equal to $0.8$.\n",
    "\n",
    "### Initial Condition:\n",
    "$$ u_0(x) = \\exp\\left(-\\frac{1}{2}\\left(\\frac{x}{0.4}\\right)^2\\right) $$\n",
    "\n",
    "### Boundary Condition (Periodic):\n",
    "$$ u(-2,t) = u(2,t) $$"
   ]
  },
  {
   "cell_type": "code",
   "execution_count": 2,
   "id": "4f5be370",
   "metadata": {},
   "outputs": [
    {
     "name": "stderr",
     "output_type": "stream",
     "text": [
      "Using backend: tensorflow\n",
      "Other supported backends: tensorflow.compat.v1, pytorch, jax, paddle.\n",
      "paddle supports more examples now and is recommended.\n"
     ]
    },
    {
     "name": "stdout",
     "output_type": "stream",
     "text": [
      "WARNING:tensorflow:From C:\\ProgramData\\anaconda3\\Lib\\site-packages\\tf_keras\\src\\losses.py:2976: The name tf.losses.sparse_softmax_cross_entropy is deprecated. Please use tf.compat.v1.losses.sparse_softmax_cross_entropy instead.\n",
      "\n",
      "WARNING:tensorflow:From C:\\ProgramData\\anaconda3\\Lib\\site-packages\\tensorflow_probability\\python\\internal\\backend\\numpy\\_utils.py:48: The name tf.logging.TaskLevelStatusMessage is deprecated. Please use tf.compat.v1.logging.TaskLevelStatusMessage instead.\n",
      "\n",
      "WARNING:tensorflow:From C:\\ProgramData\\anaconda3\\Lib\\site-packages\\tensorflow_probability\\python\\internal\\backend\\numpy\\_utils.py:48: The name tf.control_flow_v2_enabled is deprecated. Please use tf.compat.v1.control_flow_v2_enabled instead.\n",
      "\n"
     ]
    }
   ],
   "source": [
    "import os\n",
    "os.environ['DDE_BACKEND'] = 'tensorflow'\n",
    "\n",
    "import numpy as np\n",
    "import deepxde as dde\n",
    "import matplotlib.pyplot as plt"
   ]
  },
  {
   "cell_type": "code",
   "execution_count": 1,
   "id": "1951e56c",
   "metadata": {},
   "outputs": [],
   "source": [
    "# declaring constants\n",
    "a = 0.8 # advected speed\n",
    "L = 2.0 # boundary\n",
    "T = 10 # maximum time"
   ]
  },
  {
   "cell_type": "code",
   "execution_count": 1,
   "id": "6e5e4b22",
   "metadata": {},
   "outputs": [
    {
     "ename": "NameError",
     "evalue": "name 'dde' is not defined",
     "output_type": "error",
     "traceback": [
      "\u001b[1;31m---------------------------------------------------------------------------\u001b[0m",
      "\u001b[1;31mNameError\u001b[0m                                 Traceback (most recent call last)",
      "Cell \u001b[1;32mIn[1], line 2\u001b[0m\n\u001b[0;32m      1\u001b[0m \u001b[38;5;66;03m# geometry\u001b[39;00m\n\u001b[1;32m----> 2\u001b[0m bound \u001b[38;5;241m=\u001b[39m dde\u001b[38;5;241m.\u001b[39mgeometry\u001b[38;5;241m.\u001b[39mInterval(\u001b[38;5;241m-\u001b[39mL,L)\n",
      "\u001b[1;31mNameError\u001b[0m: name 'dde' is not defined"
     ]
    }
   ],
   "source": [
    "# geometry\n",
    "bound = dde.geometry.Interval(-L,L)\n",
    "timedomain = dde.geometry.TimeDomain(0, T)\n",
    "time = dde.geometry.GeometryXTime(bound, timedomain)"
   ]
  },
  {
   "cell_type": "markdown",
   "id": "306f3828",
   "metadata": {},
   "source": [
    "# 2. Creating Model"
   ]
  },
  {
   "cell_type": "code",
   "execution_count": null,
   "id": "fbae2fad",
   "metadata": {},
   "outputs": [],
   "source": [
    "# Diff Equation\n",
    "def pde(x, u):\n",
    "    u_t = dde.grad.jacobian(u, x, i=0, j=1)\n",
    "    u_x = dde.grad.jacobian(u, x, i=0, j=0)\n",
    "    a = 0.8\n",
    "    return u_t + a * u_x\n",
    "\n",
    "# Initial Condition\n",
    "def init_function(x):\n",
    "    return np.exp(-0.5 * (x[:, 0] / 0.4)**2)\n",
    "\n",
    "ic = dde.icbc.IC(geomtime, init_func, lambda _, on_initial: on_initial)"
   ]
  }
 ],
 "metadata": {
  "kernelspec": {
   "display_name": "Python 3 (ipykernel)",
   "language": "python",
   "name": "python3"
  },
  "language_info": {
   "codemirror_mode": {
    "name": "ipython",
    "version": 3
   },
   "file_extension": ".py",
   "mimetype": "text/x-python",
   "name": "python",
   "nbconvert_exporter": "python",
   "pygments_lexer": "ipython3",
   "version": "3.11.5"
  }
 },
 "nbformat": 4,
 "nbformat_minor": 5
}
