{
 "cells": [
  {
   "cell_type": "markdown",
   "id": "882f59e3",
   "metadata": {},
   "source": [
    "# Advection or Transport Problem\n",
    "\n",
    "Considering a one-dimensional domain $ \\Omega = \\{ x\\in \\mathbb{R}\\space|-2\\leq x\\leq 2 \\} $ and $ \\tau = \\{ t \\in \\mathbb{R*}\\space|\\space t>0\\}$\n",
    "\n",
    "### Differential Equation: \n",
    "$$ \\frac{\\partial u}{\\partial t} + a\\frac{\\partial u}{\\partial x} = 0 $$ \n",
    "\n",
    "where $u$ is the advected quantity and $a$ is the advected speed. For current simulation, $a$ is a constant and is equal to $0.8$.\n",
    "\n",
    "### Initial Condition:\n",
    "$$ u_0(x) = \\exp\\left(-\\frac{1}{2}\\left(\\frac{x}{0.4}\\right)^2\\right) $$\n",
    "\n",
    "### Boundary Condition (Periodic):\n",
    "$$ u(-2,t) = u(2,t) $$"
   ]
  },
  {
   "cell_type": "markdown",
   "id": "d9ac3dfd",
   "metadata": {},
   "source": [
    "## 1. Setup"
   ]
  },
  {
   "cell_type": "code",
   "execution_count": 1,
   "id": "f1502752",
   "metadata": {},
   "outputs": [],
   "source": [
    "import numpy as np\n",
    "import tensorflow as tf\n",
    "# import deepxde as dde\n",
    "import matplotlib.pyplot as plt"
   ]
  },
  {
   "cell_type": "code",
   "execution_count": 2,
   "id": "31b766c7",
   "metadata": {},
   "outputs": [],
   "source": [
    "# declaring constants\n",
    "a = 0.8 # advected speed\n",
    "L = 2.0 # boundary\n",
    "T = 10 # maximum time"
   ]
  },
  {
   "cell_type": "markdown",
   "id": "05b04a74",
   "metadata": {},
   "source": [
    "## 2. Creating Model"
   ]
  },
  {
   "cell_type": "code",
   "execution_count": 3,
   "id": "744a9d7d",
   "metadata": {},
   "outputs": [],
   "source": [
    "class PINN(tf.keras.Model):\n",
    "    def __init__(self, layers):\n",
    "        super(PINN, self).__init__()\n",
    "        self.hidden_layers = [tf.keras.layers.Dense(layer, activation='relu') for layer in layers]\n",
    "        self.output_layer = tf.keras.layers.Dense(1, activation=None)\n",
    "        \n",
    "    def build(self, input_shape):\n",
    "        for layer in self.hidden_layers:\n",
    "            layer.build(input_shape)\n",
    "            input_shape = (input_shape[0], layer.units)\n",
    "        self.output_layer.build(input_shape)\n",
    "        super(PINN, self).build(input_shape)\n",
    "        \n",
    "    def call(self, x):\n",
    "        for layer in self.hidden_layers:\n",
    "            x = layer(x)\n",
    "        return self.output_layer(x)"
   ]
  },
  {
   "cell_type": "code",
   "execution_count": 4,
   "id": "f6aae4b0",
   "metadata": {},
   "outputs": [],
   "source": [
    "# Define the pde\n",
    "def pde(u, x, t):\n",
    "    with tf.GradientTape(persistent=True) as tape:\n",
    "        tape.watch([x, t])\n",
    "        u_val = u(tf.concat([x, t], axis=1))\n",
    "        u_t = tape.gradient(u_val, t)\n",
    "        u_x = tape.gradient(u_val, x) \n",
    "    return u_t + a * u_x"
   ]
  },
  {
   "cell_type": "code",
   "execution_count": 5,
   "id": "86eb60df",
   "metadata": {},
   "outputs": [],
   "source": [
    "# Initial Condition\n",
    "def initial_condition(x):\n",
    "    return tf.exp( -0.5 * (x/0.4)**2 )\n",
    "\n",
    "layers = [15,15]"
   ]
  },
  {
   "cell_type": "markdown",
   "id": "23050006",
   "metadata": {},
   "source": [
    "## 3. Loss Function"
   ]
  },
  {
   "cell_type": "code",
   "execution_count": 6,
   "id": "fb161422",
   "metadata": {},
   "outputs": [],
   "source": [
    "def loss(model, x, t):\n",
    "    # ic\n",
    "    t_zeros = tf.zeros_like(x)\n",
    "    u_val = model(tf.concat([x, t_zeros], axis=1))\n",
    "    u_0 = initial_condition(x)\n",
    "    u_val = tf.cast(u_val, dtype=tf.float32)\n",
    "    u_0 = tf.cast(u_0, dtype=tf.float32)\n",
    "    ic_loss = tf.reduce_mean(tf.square(u_val - u_0))\n",
    "    \n",
    "    # residual\n",
    "    residual = pde(model, x, t)\n",
    "    residual = tf.cast(residual, dtype=tf.float32)\n",
    "    residual_loss = tf.reduce_mean(tf.square(residual))\n",
    "    \n",
    "    # bc\n",
    "    bc_left = model(tf.concat([-L * tf.ones_like(t, dtype=tf.float32), t], axis=1)) \n",
    "    bc_right = model(tf.concat([L * tf.ones_like(t, dtype=tf.float32), t], axis=1))\n",
    "    bc_loss = tf.reduce_mean(tf.square(bc_left - bc_right))\n",
    "    \n",
    "    total_loss = ic_loss + residual_loss + bc_loss\n",
    "    \n",
    "#   return tf.reduce_mean(tf.square(u_val - u_0)) + tf.reduce_mean(tf.square(residual)) + tf.reduce_mean(tf.square(bc_left - bc_right))\n",
    "    return total_loss"
   ]
  },
  {
   "cell_type": "markdown",
   "id": "7f82cfa4",
   "metadata": {},
   "source": [
    "## 4. Training the Model"
   ]
  },
  {
   "cell_type": "code",
   "execution_count": 7,
   "id": "22c32de3",
   "metadata": {},
   "outputs": [
    {
     "name": "stdout",
     "output_type": "stream",
     "text": [
      "WARNING:tensorflow:Calling GradientTape.gradient on a persistent tape inside its context is significantly less efficient than calling it outside the context (it causes the gradient ops to be recorded on the tape, leading to increased CPU and memory usage). Only call GradientTape.gradient inside the context if you actually want to trace the gradient in order to compute higher order derivatives.\n",
      "Epoch 0 Loss: 1.15917349\n",
      "Epoch 1000 Loss: 0.00311875576\n",
      "Epoch 2000 Loss: 0.00060219859\n",
      "Epoch 3000 Loss: 0.000665443717\n",
      "Epoch 4000 Loss: 0.000408677413\n",
      "Epoch 5000 Loss: 0.000171910171\n",
      "Epoch 6000 Loss: 5.83064138e-05\n",
      "Epoch 7000 Loss: 0.000428050174\n",
      "Epoch 8000 Loss: 0.000549752556\n",
      "Epoch 9000 Loss: 0.000713701069\n",
      "Epoch 9999 Loss: 0.000179156865\n"
     ]
    },
    {
     "data": {
      "text/html": [
       "<pre style=\"white-space:pre;overflow-x:auto;line-height:normal;font-family:Menlo,'DejaVu Sans Mono',consolas,'Courier New',monospace\"><span style=\"font-weight: bold\">Model: \"pinn\"</span>\n",
       "</pre>\n"
      ],
      "text/plain": [
       "\u001b[1mModel: \"pinn\"\u001b[0m\n"
      ]
     },
     "metadata": {},
     "output_type": "display_data"
    },
    {
     "data": {
      "text/html": [
       "<pre style=\"white-space:pre;overflow-x:auto;line-height:normal;font-family:Menlo,'DejaVu Sans Mono',consolas,'Courier New',monospace\">┏━━━━━━━━━━━━━━━━━━━━━━━━━━━━━━━━━━━━━━┳━━━━━━━━━━━━━━━━━━━━━━━━━━━━━┳━━━━━━━━━━━━━━━━━┓\n",
       "┃<span style=\"font-weight: bold\"> Layer (type)                         </span>┃<span style=\"font-weight: bold\"> Output Shape                </span>┃<span style=\"font-weight: bold\">         Param # </span>┃\n",
       "┡━━━━━━━━━━━━━━━━━━━━━━━━━━━━━━━━━━━━━━╇━━━━━━━━━━━━━━━━━━━━━━━━━━━━━╇━━━━━━━━━━━━━━━━━┩\n",
       "│ dense (<span style=\"color: #0087ff; text-decoration-color: #0087ff\">Dense</span>)                        │ (<span style=\"color: #00af00; text-decoration-color: #00af00\">15000</span>, <span style=\"color: #00af00; text-decoration-color: #00af00\">15</span>)                 │              <span style=\"color: #00af00; text-decoration-color: #00af00\">45</span> │\n",
       "├──────────────────────────────────────┼─────────────────────────────┼─────────────────┤\n",
       "│ dense_1 (<span style=\"color: #0087ff; text-decoration-color: #0087ff\">Dense</span>)                      │ (<span style=\"color: #00af00; text-decoration-color: #00af00\">15000</span>, <span style=\"color: #00af00; text-decoration-color: #00af00\">15</span>)                 │             <span style=\"color: #00af00; text-decoration-color: #00af00\">240</span> │\n",
       "├──────────────────────────────────────┼─────────────────────────────┼─────────────────┤\n",
       "│ dense_2 (<span style=\"color: #0087ff; text-decoration-color: #0087ff\">Dense</span>)                      │ (<span style=\"color: #00af00; text-decoration-color: #00af00\">15000</span>, <span style=\"color: #00af00; text-decoration-color: #00af00\">1</span>)                  │              <span style=\"color: #00af00; text-decoration-color: #00af00\">16</span> │\n",
       "└──────────────────────────────────────┴─────────────────────────────┴─────────────────┘\n",
       "</pre>\n"
      ],
      "text/plain": [
       "┏━━━━━━━━━━━━━━━━━━━━━━━━━━━━━━━━━━━━━━┳━━━━━━━━━━━━━━━━━━━━━━━━━━━━━┳━━━━━━━━━━━━━━━━━┓\n",
       "┃\u001b[1m \u001b[0m\u001b[1mLayer (type)                        \u001b[0m\u001b[1m \u001b[0m┃\u001b[1m \u001b[0m\u001b[1mOutput Shape               \u001b[0m\u001b[1m \u001b[0m┃\u001b[1m \u001b[0m\u001b[1m        Param #\u001b[0m\u001b[1m \u001b[0m┃\n",
       "┡━━━━━━━━━━━━━━━━━━━━━━━━━━━━━━━━━━━━━━╇━━━━━━━━━━━━━━━━━━━━━━━━━━━━━╇━━━━━━━━━━━━━━━━━┩\n",
       "│ dense (\u001b[38;5;33mDense\u001b[0m)                        │ (\u001b[38;5;34m15000\u001b[0m, \u001b[38;5;34m15\u001b[0m)                 │              \u001b[38;5;34m45\u001b[0m │\n",
       "├──────────────────────────────────────┼─────────────────────────────┼─────────────────┤\n",
       "│ dense_1 (\u001b[38;5;33mDense\u001b[0m)                      │ (\u001b[38;5;34m15000\u001b[0m, \u001b[38;5;34m15\u001b[0m)                 │             \u001b[38;5;34m240\u001b[0m │\n",
       "├──────────────────────────────────────┼─────────────────────────────┼─────────────────┤\n",
       "│ dense_2 (\u001b[38;5;33mDense\u001b[0m)                      │ (\u001b[38;5;34m15000\u001b[0m, \u001b[38;5;34m1\u001b[0m)                  │              \u001b[38;5;34m16\u001b[0m │\n",
       "└──────────────────────────────────────┴─────────────────────────────┴─────────────────┘\n"
      ]
     },
     "metadata": {},
     "output_type": "display_data"
    },
    {
     "data": {
      "text/html": [
       "<pre style=\"white-space:pre;overflow-x:auto;line-height:normal;font-family:Menlo,'DejaVu Sans Mono',consolas,'Courier New',monospace\"><span style=\"font-weight: bold\"> Total params: </span><span style=\"color: #00af00; text-decoration-color: #00af00\">301</span> (1.18 KB)\n",
       "</pre>\n"
      ],
      "text/plain": [
       "\u001b[1m Total params: \u001b[0m\u001b[38;5;34m301\u001b[0m (1.18 KB)\n"
      ]
     },
     "metadata": {},
     "output_type": "display_data"
    },
    {
     "data": {
      "text/html": [
       "<pre style=\"white-space:pre;overflow-x:auto;line-height:normal;font-family:Menlo,'DejaVu Sans Mono',consolas,'Courier New',monospace\"><span style=\"font-weight: bold\"> Trainable params: </span><span style=\"color: #00af00; text-decoration-color: #00af00\">301</span> (1.18 KB)\n",
       "</pre>\n"
      ],
      "text/plain": [
       "\u001b[1m Trainable params: \u001b[0m\u001b[38;5;34m301\u001b[0m (1.18 KB)\n"
      ]
     },
     "metadata": {},
     "output_type": "display_data"
    },
    {
     "data": {
      "text/html": [
       "<pre style=\"white-space:pre;overflow-x:auto;line-height:normal;font-family:Menlo,'DejaVu Sans Mono',consolas,'Courier New',monospace\"><span style=\"font-weight: bold\"> Non-trainable params: </span><span style=\"color: #00af00; text-decoration-color: #00af00\">0</span> (0.00 B)\n",
       "</pre>\n"
      ],
      "text/plain": [
       "\u001b[1m Non-trainable params: \u001b[0m\u001b[38;5;34m0\u001b[0m (0.00 B)\n"
      ]
     },
     "metadata": {},
     "output_type": "display_data"
    }
   ],
   "source": [
    "model = PINN(layers) \n",
    "\n",
    "optimizer = tf.keras.optimizers.Adam(learning_rate=0.001) # Define the optimizer\n",
    "\n",
    "@tf.function\n",
    "def train_step(model, x, t):\n",
    "    with tf.GradientTape() as tape: \n",
    "        current_loss = loss(model, x, t) \n",
    "    gradients = tape.gradient(current_loss, model.trainable_variables) \n",
    "    optimizer.apply_gradients(zip(gradients, model.trainable_variables))\n",
    "    return current_loss\n",
    "\n",
    "\n",
    "loss_history = []\n",
    "# Training loop \n",
    "epochs = 10000\n",
    "for epoch in range(epochs): \n",
    "    x = np.random.normal(loc=0, scale=0.25, size=150)\n",
    "    x = x[(x >= -L) & (x <= L)]\n",
    "    t = tf.linspace(0, T, 100)[:, tf.newaxis]\n",
    "    x, t = tf.meshgrid(x, t) \n",
    "    x = tf.reshape(x, [-1, 1])\n",
    "    t = tf.reshape(t, [-1, 1])\n",
    "    x = tf.cast(x, dtype=tf.float32)\n",
    "    t = tf.cast(t, dtype=tf.float32)\n",
    "#     print(x.dtype, \" \", t.dtype)\n",
    "    current_loss = train_step(model, x, t)\n",
    "    loss_history.append(current_loss.numpy())\n",
    "    if (epoch % 1000 == 0):\n",
    "        tf.print(\"Epoch\", epoch, \"Loss:\", current_loss)\n",
    "    if (epoch == 9999):\n",
    "        tf.print(\"Epoch\", epoch, \"Loss:\", current_loss)\n",
    "\n",
    "model.summary()"
   ]
  },
  {
   "cell_type": "markdown",
   "id": "426ccc4d",
   "metadata": {},
   "source": [
    "## 5. Visualization "
   ]
  },
  {
   "cell_type": "code",
   "execution_count": 14,
   "id": "d49f5837",
   "metadata": {},
   "outputs": [
    {
     "data": {
      "image/png": "[encoded data removed]",
      "text/plain": [
       "<Figure size 640x480 with 1 Axes>"
      ]
     },
     "metadata": {},
     "output_type": "display_data"
    },
    {
     "data": {
      "image/png": "[encoded data removed]",
      "text/plain": [
       "<Figure size 640x480 with 1 Axes>"
      ]
     },
     "metadata": {},
     "output_type": "display_data"
    }
   ],
   "source": [
    "x_test = tf.linspace(-L, L, 100)[:, tf.newaxis] \n",
    "t_const = tf.constant(5.0, shape=(100, 1)) # Example: t = 5.0\n",
    "u_pred = model(tf.concat([x_test, t_const], axis=1))\n",
    "\n",
    "plt.plot(x_test, u_pred, label=\"Predicted Solution\") \n",
    "plt.xlabel(\"x\") \n",
    "plt.ylabel(\"u\") \n",
    "plt.title(\"Predicted Solution at t = 5.0\") \n",
    "plt.legend() \n",
    "plt.show()\n",
    "\n",
    "plt.semilogy(range(epochs), loss_history, label='Loss History')\n",
    "plt.xlabel('Epoch')\n",
    "plt.ylabel('MSE')\n",
    "plt.title('Error vs. Epoch')\n",
    "plt.legend()\n",
    "plt.show()"
   ]
  },
  {
   "cell_type": "code",
   "execution_count": 15,
   "id": "c9830a14",
   "metadata": {},
   "outputs": [
    {
     "ename": "InvalidArgumentError",
     "evalue": "cannot compute ConcatV2 as input #1(zero-based) was expected to be a float tensor but is a double tensor [Op:ConcatV2] name: concat",
     "output_type": "error",
     "traceback": [
      "\u001b[1;31m---------------------------------------------------------------------------\u001b[0m",
      "\u001b[1;31mInvalidArgumentError\u001b[0m                      Traceback (most recent call last)",
      "Cell \u001b[1;32mIn[15], line 2\u001b[0m\n\u001b[0;32m      1\u001b[0m t_test \u001b[38;5;241m=\u001b[39m tf\u001b[38;5;241m.\u001b[39mlinspace(\u001b[38;5;241m0\u001b[39m, T, \u001b[38;5;241m100\u001b[39m)[:, tf\u001b[38;5;241m.\u001b[39mnewaxis]\n\u001b[1;32m----> 2\u001b[0m u_pred2 \u001b[38;5;241m=\u001b[39m model(tf\u001b[38;5;241m.\u001b[39mconcat([x_test, t_test], axis\u001b[38;5;241m=\u001b[39m\u001b[38;5;241m1\u001b[39m))\n\u001b[0;32m      4\u001b[0m x_test \u001b[38;5;241m=\u001b[39m tf\u001b[38;5;241m.\u001b[39mcast(x_test, tf\u001b[38;5;241m.\u001b[39mfloat32)\n\u001b[0;32m      5\u001b[0m t_test \u001b[38;5;241m=\u001b[39m tf\u001b[38;5;241m.\u001b[39mcast(t_test, tf\u001b[38;5;241m.\u001b[39mfloat32)\n",
      "File \u001b[1;32mC:\\ProgramData\\anaconda3\\Lib\\site-packages\\tensorflow\\python\\util\\traceback_utils.py:153\u001b[0m, in \u001b[0;36mfilter_traceback.<locals>.error_handler\u001b[1;34m(*args, **kwargs)\u001b[0m\n\u001b[0;32m    151\u001b[0m \u001b[38;5;28;01mexcept\u001b[39;00m \u001b[38;5;167;01mException\u001b[39;00m \u001b[38;5;28;01mas\u001b[39;00m e:\n\u001b[0;32m    152\u001b[0m   filtered_tb \u001b[38;5;241m=\u001b[39m _process_traceback_frames(e\u001b[38;5;241m.\u001b[39m__traceback__)\n\u001b[1;32m--> 153\u001b[0m   \u001b[38;5;28;01mraise\u001b[39;00m e\u001b[38;5;241m.\u001b[39mwith_traceback(filtered_tb) \u001b[38;5;28;01mfrom\u001b[39;00m \u001b[38;5;28;01mNone\u001b[39;00m\n\u001b[0;32m    154\u001b[0m \u001b[38;5;28;01mfinally\u001b[39;00m:\n\u001b[0;32m    155\u001b[0m   \u001b[38;5;28;01mdel\u001b[39;00m filtered_tb\n",
      "File \u001b[1;32mC:\\ProgramData\\anaconda3\\Lib\\site-packages\\tensorflow\\python\\framework\\ops.py:6002\u001b[0m, in \u001b[0;36mraise_from_not_ok_status\u001b[1;34m(e, name)\u001b[0m\n\u001b[0;32m   6000\u001b[0m \u001b[38;5;28;01mdef\u001b[39;00m \u001b[38;5;21mraise_from_not_ok_status\u001b[39m(e, name) \u001b[38;5;241m-\u001b[39m\u001b[38;5;241m>\u001b[39m NoReturn:\n\u001b[0;32m   6001\u001b[0m   e\u001b[38;5;241m.\u001b[39mmessage \u001b[38;5;241m+\u001b[39m\u001b[38;5;241m=\u001b[39m (\u001b[38;5;124m\"\u001b[39m\u001b[38;5;124m name: \u001b[39m\u001b[38;5;124m\"\u001b[39m \u001b[38;5;241m+\u001b[39m \u001b[38;5;28mstr\u001b[39m(name \u001b[38;5;28;01mif\u001b[39;00m name \u001b[38;5;129;01mis\u001b[39;00m \u001b[38;5;129;01mnot\u001b[39;00m \u001b[38;5;28;01mNone\u001b[39;00m \u001b[38;5;28;01melse\u001b[39;00m \u001b[38;5;124m\"\u001b[39m\u001b[38;5;124m\"\u001b[39m))\n\u001b[1;32m-> 6002\u001b[0m   \u001b[38;5;28;01mraise\u001b[39;00m core\u001b[38;5;241m.\u001b[39m_status_to_exception(e) \u001b[38;5;28;01mfrom\u001b[39;00m \u001b[38;5;28;01mNone\u001b[39;00m\n",
      "\u001b[1;31mInvalidArgumentError\u001b[0m: cannot compute ConcatV2 as input #1(zero-based) was expected to be a float tensor but is a double tensor [Op:ConcatV2] name: concat"
     ]
    }
   ],
   "source": [
    "t_test = tf.linspace(0, T, 100)[:, tf.newaxis]\n",
    "u_pred2 = model(tf.concat([x_test, t_test], axis=1))\n",
    "\n",
    "x_test = tf.cast(x_test, tf.float32)\n",
    "t_test = tf.cast(t_test, tf.float32)\n",
    "\n",
    "x_np = tf.reshape(x_test, (100, 100)).numpy()\n",
    "t_np = tf.reshape(t_test, (100, 100)).numpy()\n",
    "u_pred_np = tf.reshape(u_pred2, (100, 100)).numpy()\n",
    "\n",
    "plt.figure(figsize=(10, 6))\n",
    "\n",
    "contour = plt.contourf(x_test, t_test, u_pred, cmap='viridis')\n",
    "plt.colorbar(contour)\n",
    "\n",
    "# Add labels and title\n",
    "plt.xlabel('x')\n",
    "plt.ylabel('t')\n",
    "plt.title('Contour Plot of u')\n",
    "plt.show()"
   ]
  },
  {
   "cell_type": "code",
   "execution_count": null,
   "id": "968e858b",
   "metadata": {},
   "outputs": [],
   "source": []
  }
 ],
 "metadata": {
  "kernelspec": {
   "display_name": "Python 3 (ipykernel)",
   "language": "python",
   "name": "python3"
  },
  "language_info": {
   "codemirror_mode": {
    "name": "ipython",
    "version": 3
   },
   "file_extension": ".py",
   "mimetype": "text/x-python",
   "name": "python",
   "nbconvert_exporter": "python",
   "pygments_lexer": "ipython3",
   "version": "3.11.5"
  }
 },
 "nbformat": 4,
 "nbformat_minor": 5
}
